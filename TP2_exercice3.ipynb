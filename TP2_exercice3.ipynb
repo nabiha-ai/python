{
  "nbformat": 4,
  "nbformat_minor": 0,
  "metadata": {
    "colab": {
      "name": "TP2_exercice3.ipynb",
      "provenance": [],
      "authorship_tag": "ABX9TyN9Bioy7r68xYze5PdHPt/o",
      "include_colab_link": true
    },
    "kernelspec": {
      "name": "python3",
      "display_name": "Python 3"
    },
    "language_info": {
      "name": "python"
    }
  },
  "cells": [
    {
      "cell_type": "markdown",
      "metadata": {
        "id": "view-in-github",
        "colab_type": "text"
      },
      "source": [
        "<a href=\"https://colab.research.google.com/github/nabiha-ai/python/blob/main/TP2_exercice3.ipynb\" target=\"_parent\"><img src=\"https://colab.research.google.com/assets/colab-badge.svg\" alt=\"Open In Colab\"/></a>"
      ]
    },
    {
      "cell_type": "code",
      "execution_count": null,
      "metadata": {
        "id": "T-VWmqqPtMHP"
      },
      "outputs": [],
      "source": [
        "\n",
        "s=input(\"donner une chaine:\")\n",
        "n=int(input(\"donner une nombre\"))\n",
        "if n==1:\n",
        "  s=s[1:]\n",
        "elif n==len(s) :\n",
        "  s=s[:-1]\n",
        "else: \n",
        "  s=s[:n]+s[n+1:]\n",
        "s\n"
      ]
    }
  ]
}