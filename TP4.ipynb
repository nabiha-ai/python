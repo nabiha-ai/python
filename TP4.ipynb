{
  "nbformat": 4,
  "nbformat_minor": 0,
  "metadata": {
    "colab": {
      "name": "TP4.ipynb",
      "provenance": [],
      "authorship_tag": "ABX9TyOxmu3tWyrK0zyihIGlAVw3",
      "include_colab_link": true
    },
    "kernelspec": {
      "name": "python3",
      "display_name": "Python 3"
    },
    "language_info": {
      "name": "python"
    }
  },
  "cells": [
    {
      "cell_type": "markdown",
      "metadata": {
        "id": "view-in-github",
        "colab_type": "text"
      },
      "source": [
        "<a href=\"https://colab.research.google.com/github/nabiha-ai/python/blob/main/TP4.ipynb\" target=\"_parent\"><img src=\"https://colab.research.google.com/assets/colab-badge.svg\" alt=\"Open In Colab\"/></a>"
      ]
    },
    {
      "cell_type": "code",
      "execution_count": null,
      "metadata": {
        "colab": {
          "base_uri": "https://localhost:8080/"
        },
        "id": "3zri8CJTKW8U",
        "outputId": "afd8c355-b31a-4da6-f44f-4ae269208df9"
      },
      "outputs": [
        {
          "output_type": "stream",
          "name": "stdout",
          "text": [
            "donner un prix ht12\n",
            "prix_ttc: 2.28\n",
            "donner un prix ht0\n",
            "prix_ttc: 0.0\n"
          ]
        }
      ],
      "source": [
        " #_exercice1\n",
        " prix_ht=10\n",
        " while  prix_ht >=0 :\n",
        "   prix_ht=int(input(\"donner un prix ht\"))\n",
        "   prix_ttc=prix_ht*19/100\n",
        "   print(\"prix_ttc:\",prix_ttc)\n",
        "   if prix_ht == 0:\n",
        "    break"
      ]
    },
    {
      "cell_type": "code",
      "source": [
        " #_exercice2"
      ],
      "metadata": {
        "id": "DXUiYgUDNqSq"
      },
      "execution_count": null,
      "outputs": []
    },
    {
      "cell_type": "code",
      "source": [
        " #_exercice3\n",
        "\n",
        " #Ecrire un programme en Python qui permet saisir un entier strictement positif et de dire si cet entier n est PAIR ou IMPAIR.\n",
        "n=-10\n",
        " while n<0:\n",
        "   n=int(input(\"donner un entier n =\"))\n",
        "   if n%2==0:\n",
        "     print(n,\"est un nombre paire\")\n",
        "   else :\n",
        "      print(n,\"est un nombre impaire\")\n",
        "  "
      ],
      "metadata": {
        "colab": {
          "base_uri": "https://localhost:8080/"
        },
        "id": "83HifIydNtfg",
        "outputId": "6b41ea67-f34a-471b-9d71-9b42ec5ee104"
      },
      "execution_count": null,
      "outputs": [
        {
          "output_type": "stream",
          "name": "stdout",
          "text": [
            "donner un entier n =-5\n",
            "-5 est un nombre impaire\n",
            "donner un entier n =6\n",
            "6 est un nombre paire\n"
          ]
        }
      ]
    },
    {
      "cell_type": "code",
      "source": [
        " #_exercice 4\n",
        "\n",
        "# Ecrire un programme en Python qui permet de saisir un entier positif et déterminer le nombre de fois de suite cet entier est divisible par 2.\n",
        "nbre_suit=0\n",
        "n=int(input(\"donner un entier n\"))\n",
        "while(n//2 !=0):\n",
        "  nbre_suit=nbre_suit+1\n",
        "  n=n//2\n",
        "  print (n)\n",
        "print(\"le nombre saisie est divisé:\", nbre_suit)\n"
      ],
      "metadata": {
        "colab": {
          "base_uri": "https://localhost:8080/"
        },
        "id": "Rfe1O_0XQKEC",
        "outputId": "96c3bac3-6fe8-4584-a3d7-4490e56883b5"
      },
      "execution_count": null,
      "outputs": [
        {
          "output_type": "stream",
          "name": "stdout",
          "text": [
            "donner un entier n6\n",
            "3\n",
            "1\n",
            "le nombre saisie est divisé: 2\n"
          ]
        }
      ]
    },
    {
      "cell_type": "code",
      "source": [
        "#_exercice 5\n",
        "\n",
        "# Ecrire un programme en Python qui permet de saisir un entier positif et déterminer le nombre de fois de suite cet entier est divisible par 2.\n",
        "nbre= int (input(\"Entrez un entier strictement positif :\"))\n",
        "liste = []\n",
        "for i in range(1,nbre):\n",
        "  if nbre % i== 0 :\n",
        "    liste.append(i)\n",
        "if len(liste)==1:\n",
        "   print(\"Diviseurs propres sans répétition de\", nbre, \": aucun ! Il est premier\")\n",
        "else: \n",
        "  print(\"Diviseurs propres sans répétition de\",nbre,\":\",liste, \" soit\", len(liste),\"diviseurs propres\")\n"
      ],
      "metadata": {
        "colab": {
          "base_uri": "https://localhost:8080/"
        },
        "id": "v8qWeqvzSH-D",
        "outputId": "e4b78f3e-e860-471c-fe9d-1835a8c49975"
      },
      "execution_count": 19,
      "outputs": [
        {
          "output_type": "stream",
          "name": "stdout",
          "text": [
            "Entrez un entier strictement positif :13\n",
            "Diviseurs propres sans répétition de 13 : aucun ! Il est premier\n"
          ]
        }
      ]
    },
    {
      "cell_type": "code",
      "source": [
        "#_exercice 6"
      ],
      "metadata": {
        "id": "kaUWE8IEX5G7"
      },
      "execution_count": null,
      "outputs": []
    }
  ]
}