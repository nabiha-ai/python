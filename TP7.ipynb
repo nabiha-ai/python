{
  "nbformat": 4,
  "nbformat_minor": 0,
  "metadata": {
    "colab": {
      "name": "TP7.ipynb",
      "provenance": [],
      "authorship_tag": "ABX9TyPfJN/mU1OM3LCmE5pJ3rZ/",
      "include_colab_link": true
    },
    "kernelspec": {
      "name": "python3",
      "display_name": "Python 3"
    },
    "language_info": {
      "name": "python"
    }
  },
  "cells": [
    {
      "cell_type": "markdown",
      "metadata": {
        "id": "view-in-github",
        "colab_type": "text"
      },
      "source": [
        "<a href=\"https://colab.research.google.com/github/nabiha-ai/python/blob/main/TP7.ipynb\" target=\"_parent\"><img src=\"https://colab.research.google.com/assets/colab-badge.svg\" alt=\"Open In Colab\"/></a>"
      ]
    },
    {
      "cell_type": "code",
      "execution_count": 6,
      "metadata": {
        "colab": {
          "base_uri": "https://localhost:8080/"
        },
        "id": "izjsKKoYP5W0",
        "outputId": "0a8b34bc-83bc-4f91-f3b1-fe8cb86efccc"
      },
      "outputs": [
        {
          "output_type": "stream",
          "name": "stdout",
          "text": [
            "74\n"
          ]
        }
      ],
      "source": [
        "#excercice1\n",
        "liste=[37,74,38,42];\n",
        "\n",
        "max=0\n",
        "for elt in liste:\n",
        "  if int(elt)>max:\n",
        "    max=elt\n",
        "print(max)\n",
        "\n"
      ]
    },
    {
      "cell_type": "code",
      "source": [
        "#exercice 2:\n",
        "def taille(liste):\n",
        "  nbre_occ=0\n",
        "  for elt in liste:\n",
        "    if len(str(elt))>=0:\n",
        "      nbre_occ= nbre_occ+1\n",
        "  return(nbre_occ)\n",
        "\n",
        "def verif(liste):\n",
        "  liste2=[]\n",
        "  for elt in liste:\n",
        "    a=str(elt)\n",
        "    \n",
        "    if a [0]==a[-1]:\n",
        "      liste2.append(elt)\n",
        "  return(liste2)\n",
        "\n",
        "liste1=[\"bonjour\",74,38,\"42\",454];\n",
        "\n",
        "verif(liste1)\n"
      ],
      "metadata": {
        "id": "ua-QeFt3RYqs"
      },
      "execution_count": null,
      "outputs": []
    },
    {
      "cell_type": "code",
      "source": [
        "#exercice 3\n",
        "liste=[\"bonjour\",74,38,\"42\",454,74];\n",
        "for elt in liste:\n",
        "  if liste.count(elt)>1:\n",
        "    liste.remove(elt)\n",
        "print(liste)\n",
        "\n",
        "\n",
        "\n"
      ],
      "metadata": {
        "colab": {
          "base_uri": "https://localhost:8080/"
        },
        "id": "aDC26vn_VFoj",
        "outputId": "2bd19c6a-394f-4c21-ad33-56e5f4e3d325"
      },
      "execution_count": 64,
      "outputs": [
        {
          "output_type": "stream",
          "name": "stdout",
          "text": [
            "['bonjour', 38, '42', 454, 74]\n"
          ]
        }
      ]
    },
    {
      "cell_type": "code",
      "source": [
        "#exercice 4\n",
        "mon_dictionnaire = {}\n",
        "\n",
        "n=int(input(\"donner un entier:\"))\n",
        "\n",
        "for i in range (1,n+1):\n",
        "  mon_dictionnaire [i]=i*i\n",
        "print(mon_dictionnaire)"
      ],
      "metadata": {
        "colab": {
          "base_uri": "https://localhost:8080/"
        },
        "id": "wGAmjdLxU_-F",
        "outputId": "6420954e-05eb-4b12-bd80-2ffb06c72fca"
      },
      "execution_count": 67,
      "outputs": [
        {
          "output_type": "stream",
          "name": "stdout",
          "text": [
            "donner un entier:6\n",
            "{1: 1, 2: 4, 3: 9, 4: 16, 5: 25, 6: 36}\n"
          ]
        }
      ]
    }
  ]
}