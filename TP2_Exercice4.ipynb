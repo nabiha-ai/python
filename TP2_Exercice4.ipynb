{
  "nbformat": 4,
  "nbformat_minor": 0,
  "metadata": {
    "colab": {
      "name": "TP2-exercice4.ipynb",
      "provenance": [],
      "authorship_tag": "ABX9TyOtzLLZ55VTfWCDHLg6puKy",
      "include_colab_link": true
    },
    "kernelspec": {
      "name": "python3",
      "display_name": "Python 3"
    },
    "language_info": {
      "name": "python"
    }
  },
  "cells": [
    {
      "cell_type": "markdown",
      "metadata": {
        "id": "view-in-github",
        "colab_type": "text"
      },
      "source": [
        "<a href=\"https://colab.research.google.com/github/nabiha-ai/python/blob/main/TP2_Exercice4.ipynb\" target=\"_parent\"><img src=\"https://colab.research.google.com/assets/colab-badge.svg\" alt=\"Open In Colab\"/></a>"
      ]
    },
    {
      "cell_type": "code",
      "execution_count": null,
      "metadata": {
        "id": "oSDDka6Rtgno"
      },
      "outputs": [],
      "source": [
        "txt='''Python est le langage de programmation open source le plus\n",
        "employé par les informaticiens. Ce langage s’est propulsé en tête de la\n",
        "gestion d’infrastructure, d’analyse de données ou dans le domaine du\n",
        "développement de logiciels. En effet, parmi ses qualités, Python permet\n",
        "notamment aux développeurs de se concentrer sur ce qu’ils font plutôt\n",
        "que sur la manière dont ils le font. Il a libéré les développeurs des\n",
        "contraintes de formes qui occupaient leur temps avec les langages plus\n",
        "anciens. Ainsi, développer du code avec Python est plus rapide qu’avec d’autres\n",
        "langages.'''\n",
        "#1\n",
        "len(txt)\n",
        "#2\n",
        "mot=txt.split(\" \")\n",
        "mot\n",
        "#3\n",
        "type(mot)\n",
        "#5\n",
        "mot=txt.split(\"le\")\n",
        "mot\n",
        "#6\n",
        "mot=txt.split(\".\")\n",
        "mot\n",
        "\n",
        "#7\n",
        "mot=txt.upper()\n",
        "mot=txt.lower()\n",
        "#8\n",
        "debut=txt.startswith(\"python\")\n",
        "fin=txt.endswith(\"ga\")\n",
        "print(debut,fin)\n",
        "#9\n",
        "mot=txt+\"Dans cette formation on va voir à quoi peut servir Python.\"\n",
        "mot\n",
        "#10\n",
        "position=mot.find(\"programmation\")\n",
        "position\n",
        "#12\n",
        "mot=txt.replace(\"domaine\",\"secteur\")\n",
        "mot"
      ]
    }
  ]
}