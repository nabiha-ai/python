{
  "nbformat": 4,
  "nbformat_minor": 0,
  "metadata": {
    "colab": {
      "name": "Untitled1.ipynb",
      "provenance": [],
      "toc_visible": true,
      "authorship_tag": "ABX9TyO6fMuilssXrD12TLUmBM1C",
      "include_colab_link": true
    },
    "kernelspec": {
      "name": "python3",
      "display_name": "Python 3"
    },
    "language_info": {
      "name": "python"
    }
  },
  "cells": [
    {
      "cell_type": "markdown",
      "metadata": {
        "id": "view-in-github",
        "colab_type": "text"
      },
      "source": [
        "<a href=\"https://colab.research.google.com/github/nabiha-ai/python/blob/main/ooo.ipynb\" target=\"_parent\"><img src=\"https://colab.research.google.com/assets/colab-badge.svg\" alt=\"Open In Colab\"/></a>"
      ]
    },
    {
      "cell_type": "code",
      "execution_count": null,
      "metadata": {
        "colab": {
          "base_uri": "https://localhost:8080/"
        },
        "id": "9Ha1sT98zurq",
        "outputId": "6f9f2223-9e40-46ee-d4a4-888e1554a991"
      },
      "outputs": [
        {
          "output_type": "stream",
          "name": "stdout",
          "text": [
            "co*otier\n",
            "bonjour , tout le monde \n",
            "botout le monde  , njour\n"
          ]
        }
      ],
      "source": [
        "ch=\"cocotier\"\n",
        "occ=ch[0]\n",
        "occ\n",
        "s=ch[0]+ch[1:].replace(occ,\"*\")\n",
        "print (s)\n",
        "\n",
        "\n",
        "CH=\"bonjour, tout le monde \"\n",
        "p=CH.find(',')\n",
        "\n",
        "p\n",
        "ch1=CH[:p]\n",
        "ch2=CH[p:]\n",
        "print(ch1, ch2)\n",
        "ch11=ch1[0:2]+ch2[2:]\n",
        "ch22=ch2[0:2]+ch1[2:]\n",
        "print (ch11,ch22)\n"
      ]
    }
  ]
}