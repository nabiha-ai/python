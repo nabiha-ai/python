{
  "nbformat": 4,
  "nbformat_minor": 0,
  "metadata": {
    "colab": {
      "name": "TP6.ipynb",
      "provenance": [],
      "authorship_tag": "ABX9TyMMFKFageELCC7D6KeQ/VIM",
      "include_colab_link": true
    },
    "kernelspec": {
      "name": "python3",
      "display_name": "Python 3"
    },
    "language_info": {
      "name": "python"
    }
  },
  "cells": [
    {
      "cell_type": "markdown",
      "metadata": {
        "id": "view-in-github",
        "colab_type": "text"
      },
      "source": [
        "<a href=\"https://colab.research.google.com/github/nabiha-ai/python/blob/main/TP6.ipynb\" target=\"_parent\"><img src=\"https://colab.research.google.com/assets/colab-badge.svg\" alt=\"Open In Colab\"/></a>"
      ]
    },
    {
      "cell_type": "code",
      "execution_count": 37,
      "metadata": {
        "colab": {
          "base_uri": "https://localhost:8080/",
          "height": 130
        },
        "id": "jlHGwLB33vnR",
        "outputId": "7a522ce6-3d77-49be-a4c3-b4468f02cde0"
      },
      "outputs": [
        {
          "output_type": "error",
          "ename": "IndentationError",
          "evalue": "ignored",
          "traceback": [
            "\u001b[0;36m  File \u001b[0;32m\"<ipython-input-37-00b84bacccb6>\"\u001b[0;36m, line \u001b[0;32m8\u001b[0m\n\u001b[0;31m    except:\u001b[0m\n\u001b[0m           ^\u001b[0m\n\u001b[0;31mIndentationError\u001b[0m\u001b[0;31m:\u001b[0m unindent does not match any outer indentation level\n"
          ]
        }
      ],
      "source": [
        "#exercice 1\n",
        "\n",
        "def sum_of_list(numbers):\n",
        " return sum(numbers)\n",
        "def average(sum, n):\n",
        " try:\n",
        "    return sum / n\n",
        "  except:\n",
        "    print(\"division par Zero\")\n",
        "def final_data(data):\n",
        " for item in data:\n",
        "   print(\"Average:\", average(sum_of_list(item), len(item)))\n",
        "list1 = [10, 20, 30, 40, 50]\n",
        "list2 = [100, 200, 300, 400, 500]\n",
        "# empty list\n",
        "list3 = []\n",
        "lists = [list1, list2, list3]\n",
        "\n",
        "final_data(lists)\n"
      ]
    },
    {
      "cell_type": "code",
      "source": [
        "#exercice 2\n",
        "\n",
        "a = 1\n",
        "strs = \"hello\"\n",
        "def func(a):\n",
        "  try:\n",
        "    res = a + strs\n",
        "  except :\n",
        "    print(\"entrer une chaine\")\n",
        "  finally:\n",
        "    res=str(a)+str\n",
        "  print(res)\n",
        "\n",
        "\n",
        "func(\"1\")\n",
        "\n"
      ],
      "metadata": {
        "colab": {
          "base_uri": "https://localhost:8080/",
          "height": 339
        },
        "id": "bEl20DsW4MSn",
        "outputId": "3dca8f6b-878c-41ba-8cd2-3a72a1208e89"
      },
      "execution_count": 49,
      "outputs": [
        {
          "output_type": "error",
          "ename": "TypeError",
          "evalue": "ignored",
          "traceback": [
            "\u001b[0;31m---------------------------------------------------------------------------\u001b[0m",
            "\u001b[0;31mTypeError\u001b[0m                                 Traceback (most recent call last)",
            "\u001b[0;32m<ipython-input-49-9866974f803e>\u001b[0m in \u001b[0;36m<module>\u001b[0;34m()\u001b[0m\n\u001b[1;32m     13\u001b[0m \u001b[0;34m\u001b[0m\u001b[0m\n\u001b[1;32m     14\u001b[0m \u001b[0;34m\u001b[0m\u001b[0m\n\u001b[0;32m---> 15\u001b[0;31m \u001b[0mfunc\u001b[0m\u001b[0;34m(\u001b[0m\u001b[0;34m\"1\"\u001b[0m\u001b[0;34m)\u001b[0m\u001b[0;34m\u001b[0m\u001b[0;34m\u001b[0m\u001b[0m\n\u001b[0m\u001b[1;32m     16\u001b[0m \u001b[0;34m\u001b[0m\u001b[0m\n",
            "\u001b[0;32m<ipython-input-49-9866974f803e>\u001b[0m in \u001b[0;36mfunc\u001b[0;34m(a)\u001b[0m\n\u001b[1;32m      9\u001b[0m     \u001b[0mprint\u001b[0m\u001b[0;34m(\u001b[0m\u001b[0;34m\"entrer une chaine\"\u001b[0m\u001b[0;34m)\u001b[0m\u001b[0;34m\u001b[0m\u001b[0;34m\u001b[0m\u001b[0m\n\u001b[1;32m     10\u001b[0m   \u001b[0;32mfinally\u001b[0m\u001b[0;34m:\u001b[0m\u001b[0;34m\u001b[0m\u001b[0;34m\u001b[0m\u001b[0m\n\u001b[0;32m---> 11\u001b[0;31m     \u001b[0mres\u001b[0m\u001b[0;34m=\u001b[0m\u001b[0mstr\u001b[0m\u001b[0;34m(\u001b[0m\u001b[0ma\u001b[0m\u001b[0;34m)\u001b[0m\u001b[0;34m+\u001b[0m\u001b[0mstr\u001b[0m\u001b[0;34m\u001b[0m\u001b[0;34m\u001b[0m\u001b[0m\n\u001b[0m\u001b[1;32m     12\u001b[0m   \u001b[0mprint\u001b[0m\u001b[0;34m(\u001b[0m\u001b[0mres\u001b[0m\u001b[0;34m)\u001b[0m\u001b[0;34m\u001b[0m\u001b[0;34m\u001b[0m\u001b[0m\n\u001b[1;32m     13\u001b[0m \u001b[0;34m\u001b[0m\u001b[0m\n",
            "\u001b[0;31mTypeError\u001b[0m: can only concatenate str (not \"type\") to str"
          ]
        }
      ]
    },
    {
      "cell_type": "code",
      "source": [
        "#exercice 3\n",
        "\n",
        "var = 10\n",
        "def test_func():\n",
        "  global var\n",
        "  var += 1\n",
        "  print(var)\n",
        "\n",
        "test_func()\n",
        "\n"
      ],
      "metadata": {
        "colab": {
          "base_uri": "https://localhost:8080/"
        },
        "id": "Yja_65dZ6Aev",
        "outputId": "bedcd076-d702-4005-8fe0-548cc64add6b"
      },
      "execution_count": 29,
      "outputs": [
        {
          "output_type": "stream",
          "name": "stdout",
          "text": [
            "11\n"
          ]
        }
      ]
    },
    {
      "cell_type": "code",
      "source": [
        "#exercice 4\n",
        "score = int(input(\"Enter your score between 0 and 100: \"))\n",
        "def calculate_level(score):\n",
        "  if score > 90:\n",
        "    level = 'expert'\n",
        "  elif score > 70:\n",
        "   level = 'advanced'\n",
        "  elif score > 55:\n",
        "   level = 'intermediate'\n",
        "  else:\n",
        "     level = 'moyen'\n",
        "  return level\n",
        "\n",
        "print(f'Your level is: {calculate_level(score)}')\n",
        "\n",
        "\n",
        "\n",
        "\n"
      ],
      "metadata": {
        "colab": {
          "base_uri": "https://localhost:8080/"
        },
        "id": "lDUsn5Jl6zC2",
        "outputId": "1df29540-f4db-43f3-9869-8b1404176259"
      },
      "execution_count": 41,
      "outputs": [
        {
          "output_type": "stream",
          "name": "stdout",
          "text": [
            "Enter your score between 0 and 100: -100\n",
            "Your level is: moyen\n"
          ]
        }
      ]
    }
  ]
}