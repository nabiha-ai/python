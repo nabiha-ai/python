{
  "nbformat": 4,
  "nbformat_minor": 0,
  "metadata": {
    "colab": {
      "name": "TP4_exercice1.ipynb",
      "provenance": [],
      "authorship_tag": "ABX9TyOhOof5QmFJGExQOyT+lPLM",
      "include_colab_link": true
    },
    "kernelspec": {
      "name": "python3",
      "display_name": "Python 3"
    },
    "language_info": {
      "name": "python"
    }
  },
  "cells": [
    {
      "cell_type": "markdown",
      "metadata": {
        "id": "view-in-github",
        "colab_type": "text"
      },
      "source": [
        "<a href=\"https://colab.research.google.com/github/nabiha-ai/python/blob/main/TP4_exercice1.ipynb\" target=\"_parent\"><img src=\"https://colab.research.google.com/assets/colab-badge.svg\" alt=\"Open In Colab\"/></a>"
      ]
    },
    {
      "cell_type": "code",
      "execution_count": 5,
      "metadata": {
        "colab": {
          "base_uri": "https://localhost:8080/"
        },
        "id": "3zri8CJTKW8U",
        "outputId": "e505fb9a-5585-4c1f-f807-64f7e1c0daeb"
      },
      "outputs": [
        {
          "output_type": "stream",
          "name": "stdout",
          "text": [
            "donner un prix ht12\n",
            "prix_ttc: 2.28\n",
            "donner un prix ht0\n",
            "prix_ttc: 0.0\n"
          ]
        }
      ],
      "source": [
        " prix_ht=10\n",
        " while  prix_ht >=0 :\n",
        "   prix_ht=int(input(\"donner un prix ht\"))\n",
        "   prix_ttc=prix_ht*19/100\n",
        "   print(\"prix_ttc:\",prix_ttc)\n",
        "   if prix_ht == 0:\n",
        "    break"
      ]
    }
  ]
}